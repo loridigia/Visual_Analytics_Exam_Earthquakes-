{
  "nbformat": 4,
  "nbformat_minor": 0,
  "metadata": {
    "colab": {
      "provenance": []
    },
    "kernelspec": {
      "name": "python3",
      "display_name": "Python 3"
    },
    "language_info": {
      "name": "python"
    }
  },
  "cells": [
    {
      "cell_type": "code",
      "execution_count": null,
      "metadata": {
        "id": "nxmNSmMFOPM5"
      },
      "outputs": [],
      "source": [
        "#LOAD THE DATASET IN PANDAS DF\n",
        "import json\n",
        "import pandas as pd\n",
        "original_df = pd.read_csv('/content/drive/MyDrive/VisualAnalytics/eartquakes-1990-2023.csv', delimiter=',', encoding='utf-8')"
      ]
    },
    {
      "cell_type": "code",
      "source": [
        "#EXTRACT EUROPEAN COUNTRIES\n",
        "european_countries = [\n",
        "    \"Albania\",\n",
        "    \"Andorra\",\n",
        "    \"Austria\",\n",
        "    \"Belarus\",\n",
        "    \"Belgium\",\n",
        "    \"Bosnia and Herzegovina\",\n",
        "    \"Bulgaria\",\n",
        "    \"Croatia\",\n",
        "    \"Cyprus\",\n",
        "    \"Czech Republic\",\n",
        "    \"Denmark\",\n",
        "    \"Estonia\",\n",
        "    \"Finland\",\n",
        "    \"France\",\n",
        "    \"Germany\",\n",
        "    \"Greece\",\n",
        "    \"Hungary\",\n",
        "    \"Iceland\",\n",
        "    \"Ireland\",\n",
        "    \"Italy\",\n",
        "    \"Kosovo\",\n",
        "    \"Latvia\",\n",
        "    \"Liechtenstein\",\n",
        "    \"Lithuania\",\n",
        "    \"Luxembourg\",\n",
        "    \"Malta\",\n",
        "    \"Moldova\",\n",
        "    \"Monaco\",\n",
        "    \"Montenegro\",\n",
        "    \"Netherlands\",\n",
        "    \"North Macedonia\",\n",
        "    \"Norway\",\n",
        "    \"Poland\",\n",
        "    \"Portugal\",\n",
        "    \"Romania\",\n",
        "    \"San Marino\",\n",
        "    \"Serbia\",\n",
        "    \"Slovakia\",\n",
        "    \"Slovenia\",\n",
        "    \"Spain\",\n",
        "    \"Sweden\",\n",
        "    \"Switzerland\",\n",
        "    \"Ukraine\",\n",
        "    \"United Kingdom\",\n",
        "    \"Vatican City\"\n",
        "]\n",
        "\n",
        "\n",
        "def extract_eu_state(text):\n",
        "    for state in european_countries:\n",
        "        if state in text:\n",
        "            return state\n",
        "    return text\n",
        "\n",
        "original_df['state'] = original_df['state'].apply(extract_eu_state)\n",
        "\n",
        "#REMOVE ALL NON EU STATES FROM DATASET\n",
        "filtered_df = original_df[original_df['state'].isin(european_countries)]\n"
      ],
      "metadata": {
        "id": "8pmdzYqNOfNp"
      },
      "execution_count": null,
      "outputs": []
    },
    {
      "cell_type": "code",
      "source": [
        "#REMOVE NON EARTHQUAKES EVENTS\n",
        "filtered_df = filtered_df[filtered_df['data_type'] == \"earthquake\"]\n",
        "'''\n",
        "unique_values = original_df['data_type'].unique()\n",
        "for value in unique_values:\n",
        "    print(value)\n",
        "'''\n"
      ],
      "metadata": {
        "id": "7t_0ELcKXzja",
        "colab": {
          "base_uri": "https://localhost:8080/",
          "height": 35
        },
        "outputId": "bd7cb9dc-9a80-4486-d40d-20c0d1b3553a"
      },
      "execution_count": null,
      "outputs": [
        {
          "output_type": "execute_result",
          "data": {
            "text/plain": [
              "\"\\nunique_values = original_df['data_type'].unique()\\nfor value in unique_values:\\n    print(value)\\n\""
            ],
            "application/vnd.google.colaboratory.intrinsic+json": {
              "type": "string"
            }
          },
          "metadata": {},
          "execution_count": 7
        }
      ]
    },
    {
      "cell_type": "code",
      "source": [
        "#REMOVE ALL DATA BEFORE 2000\n",
        "filtered_df['date'] = pd.to_datetime(filtered_df['date'])\n",
        "edited_df = filtered_df[filtered_df['magnitudo'] >= 1]\n",
        "edited_df = filtered_df[filtered_df['date'].dt.year >= 2000]"
      ],
      "metadata": {
        "id": "9NeLmRDbOjsi"
      },
      "execution_count": null,
      "outputs": []
    },
    {
      "cell_type": "code",
      "source": [
        "unique_values = filtered_df['status'].unique()\n",
        "for value in unique_values:\n",
        "    print(value)"
      ],
      "metadata": {
        "colab": {
          "base_uri": "https://localhost:8080/"
        },
        "id": "JDViLJW9PidP",
        "outputId": "0ac8083a-88db-4a94-d120-42ff8031aa71"
      },
      "execution_count": null,
      "outputs": [
        {
          "output_type": "stream",
          "name": "stdout",
          "text": [
            "reviewed\n"
          ]
        }
      ]
    },
    {
      "cell_type": "code",
      "source": [
        "filtered_df = filtered_df.drop('time', axis=1)\n",
        "filtered_df = filtered_df.drop('place', axis=1)\n",
        "filtered_df = filtered_df.drop('status', axis=1)\n",
        "filtered_df = filtered_df.drop('tsunami', axis=1)\n",
        "filtered_df = filtered_df.drop('data_type', axis=1)\n"
      ],
      "metadata": {
        "id": "Tqnk-C04Ppcc"
      },
      "execution_count": null,
      "outputs": []
    },
    {
      "cell_type": "code",
      "source": [
        "import matplotlib.pyplot as plt\n",
        "\n",
        "# Plot the histogram\n",
        "plt.hist(filtered_df['depth'], bins=7, edgecolor='k', range=(-100, 100))\n",
        "plt.xlabel('Value')\n",
        "plt.ylabel('Frequency')\n",
        "plt.title('Distribution of Numbers')\n",
        "plt.grid(True)\n",
        "\n",
        "# Show the histogram\n",
        "plt.show()"
      ],
      "metadata": {
        "colab": {
          "base_uri": "https://localhost:8080/",
          "height": 472
        },
        "id": "eC1taBZkUyf7",
        "outputId": "31404118-ac67-4236-dd9c-a2a5d597f83b"
      },
      "execution_count": null,
      "outputs": [
        {
          "output_type": "display_data",
          "data": {
            "text/plain": [
              "<Figure size 640x480 with 1 Axes>"
            ],
            "image/png": "[encoded data removed]"
          },
          "metadata": {}
        }
      ]
    }
  ]
}